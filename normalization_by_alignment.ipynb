{
 "cells": [
  {
   "cell_type": "markdown",
   "metadata": {},
   "source": [
    "# Normalizing Nibelungen"
   ]
  },
  {
   "cell_type": "code",
   "execution_count": 1,
   "metadata": {},
   "outputs": [],
   "source": [
    "import sig.nib_augsburg.nib_reader as nibaugr\n",
    "import re"
   ]
  },
  {
   "cell_type": "code",
   "execution_count": 2,
   "metadata": {},
   "outputs": [
    {
     "data": {
      "text/plain": [
       "'https://www.hs-augsburg.de/~harsch/germanica/Chronologie/12Jh/Nibelungen/nib_c_00.html'"
      ]
     },
     "execution_count": 2,
     "metadata": {},
     "output_type": "execute_result"
    }
   ],
   "source": [
    "nibaugr.MAIN_LINKS[0]"
   ]
  },
  {
   "cell_type": "code",
   "execution_count": 3,
   "metadata": {},
   "outputs": [
    {
     "data": {
      "text/plain": [
       "[['UNS IST> In alten', 'mæren wnders vil geseit'],\n",
       " ['von heleden lobebæren', 'von grozer arebeit'],\n",
       " ['von frevde vn– hochgeciten', 'von weinen vn– klagen'],\n",
       " ['von kvner recken striten', 'mvget ir nv wnder horen sagen'],\n",
       " ['Ez whs <inBvregonden>', 'ein vil edel magedin'],\n",
       " ['daz in allen landen', 'niht schoners mohte sin'],\n",
       " ['Chriemhilt geheizen', 'div wart ein schone wip'],\n",
       " ['dar vmbe mvsin degene', 'vil verliesen den lip'],\n",
       " ['Ir pflagen dri kunige', 'edel un– rich'],\n",
       " ['Gunther un– Gernot', 'die rechen lobelich'],\n",
       " ['vn– Giselher der iunge', 'ein wetlicher degen'],\n",
       " ['div frowe was ir swester', 'die helde hetens inir pflegen'],\n",
       " ['Ein richiv chuniginne', 'frov Vte ir mvter hiez'],\n",
       " ['ir vater der hiez Dancrât', 'der in div erbe liez'],\n",
       " ['sit nach sime lebene', 'ein ellens richer man'],\n",
       " ['der ovch insiner iugende', 'grozer eren vil gewan'],\n",
       " ['Die herren waren milte', 'von arde hoh erborn'],\n",
       " ['mit kraft vn– mazen chvne', 'die rechen vz erchorn'],\n",
       " ['da zen Bvrgonden', 'so was ir lant genant'],\n",
       " ['si frvmten starchiv wnder', 'sit in Etzelen lant'],\n",
       " ['Ze Wormze bi dem Rine', 'si wonten mit ir chraft'],\n",
       " ['in dienten von ir landen', 'vil stolziv ritterschaft'],\n",
       " ['mit lobelichen eren', 'vnz an ir endes zit'],\n",
       " ['si sturben iæmerliche', 'sit von zweier frowen nit'],\n",
       " ['Die dri kunige waren', 'als ich gesaget <han>'],\n",
       " ['von vil hohem ellen', 'in waren vndertan'],\n",
       " ['ovch die besten rechen', 'von den man hat gesaget'],\n",
       " ['starch vn– vil chvone', 'inscharpfen striten vnverzaget'],\n",
       " ['Daz was von tronege hagene', 'vn– ovoch der bruder sin'],\n",
       " ['Danchwart der snelle', 'von Metzzen Ortwin'],\n",
       " ['die zwene marcgrauen', 'Gere vn– Ekkewart'],\n",
       " ['Volker von Alzeye', 'mit ganzem ellen wol be wart'],\n",
       " ['Rvomolt der chvchen meister', 'ein vz erwelter degen'],\n",
       " ['Sindolt vn– Hvnolt', 'dise herren mvsin pflegen'],\n",
       " ['des hoves vn– der eren', 'der drier kunige man'],\n",
       " ['si heten noch manigen rechen', 'des ich genennen nienen kan'],\n",
       " ['Danchwart der was marschalch', 'do was der nefe sin'],\n",
       " ['trvhsetze des kuniges', 'von Mezzen Ortwin'],\n",
       " ['Sindolt der was schenche', 'ein wetlicher degen'],\n",
       " ['Hvnolt was chame[1v]rære', 'si chunden hoher eren pflegen'],\n",
       " ['Von des hofes ere', 'vn– von ir witen chraft'],\n",
       " ['von ir vil hohen werdekeit', 'vn– von ir ritterschaft'],\n",
       " ['der die herren pflagen', 'mit frevden al ir leben'],\n",
       " ['des enchunde iv ze ware', 'niemen gar ein ende geben'],\n",
       " ['INDisen hohen eren', 'trvmte Chriemilde'],\n",
       " ['wie si zvge einen valchen', 'starch schon vn– wilde'],\n",
       " ['den ir zwene arn erchrvmmen', 'daz si daz mvste sehen'],\n",
       " ['ir enkunde indirre werlde', 'leider nimmer <geschehen>'],\n",
       " ['Den trvom si do sagete', 'ir <mvoter> voten'],\n",
       " ['sine chundes niht beschaiden', 'baz der gvten'],\n",
       " ['der valche den dv zivhest', 'daz ist ein edel man'],\n",
       " ['in welle got behvten', 'dv mvst in schier vloren han'],\n",
       " ['Waz saget ir mir von manne', 'vil liebiv mvter min'],\n",
       " ['ane <rechen> minne', 'so wil ich immer sin'],\n",
       " ['svs schon ich wil beliben', 'vnz an minen tot'],\n",
       " ['daz ich von rechen minne', 'sol gewinnen nimmer not'],\n",
       " ['Nvne versprich ez niht zesere', 'sprach ir mvter do'],\n",
       " ['soltv immer hercenliche', 'zer werlde werden vro'],\n",
       " ['daz chvmt von mannes minne', 'dv wirst ein schone wip'],\n",
       " ['ob dir got gefuget', 'eins rehte gvten ritters lip'],\n",
       " ['Die rede lat beliben', 'vil liebiv frowe min'],\n",
       " ['ez ist an manigen wiben', 'vil diche worden schin'],\n",
       " ['wie liebe mit leide', 'zeiungest lonen chan'],\n",
       " ['ich sol si miden beide', 'sone chan mir nimmer missegan'],\n",
       " ['Chriemhilt in ir mvte', 'sich minne gar bewach'],\n",
       " ['sit lebete div uil gvte', 'vil manigen lieben tac'],\n",
       " ['daz sine wesse niemen', 'den minnen wolde ir lip'],\n",
       " ['sit wart si mit eren', 'eines vil werden rechen wip'],\n",
       " ['Der was der selbe valche', 'den si in ir trvome sach'],\n",
       " ['den ir beschiet ir mvoter', 'wie sere si daz rach'],\n",
       " ['an ir nehsten magen', 'die in slvgen sint'],\n",
       " ['durch sin eines sterben', 'starp vil manich mvoter kint']]"
      ]
     },
     "execution_count": 3,
     "metadata": {},
     "output_type": "execute_result"
    }
   ],
   "source": [
    "nibaugr.read_tei(nibaugr.MAIN_LINKS[0])[0]"
   ]
  },
  {
   "cell_type": "code",
   "execution_count": 4,
   "metadata": {},
   "outputs": [],
   "source": [
    "normalized_text = \"\"\"\n",
    "uns ist in mæren . \n",
    "wunders vile geseit . \n",
    "von heleden lobebæren . \n",
    "von grôzer arebeit .\n",
    "von vröuwede unde hôchgezîten .\n",
    "von weinenne unde klagenne . \n",
    "von küener recken strîtenne .\n",
    "müget ir nû wunder hoeren sagen . \n",
    "ez wuohs in Burgonden . \n",
    "ein vile edel magedîn . \n",
    "daz in allen landen . \n",
    "niht schoeners mohte sîn . \n",
    "Kriemhilt geheizen . \n",
    "diu wart ein schoene wîp . \n",
    "dâr umbe muosen degene . \n",
    "vile verliesen den lîp . \n",
    "ir pflâgen drî küninge . \n",
    "edel unde rîche . \n",
    "Gunther unde Gêrnôt . \n",
    "die recken lobelich . \n",
    "unde Gîselher der junge . \n",
    "ein wætlîcher degen . \n",
    "diu vrouwe was ire swester .\n",
    "die helde hêten in pflegen . \n",
    "ein rîchiu küninginne . \n",
    "vrouwe Uote ire muoter hiez . \n",
    "ire vater der hiez Dancrât . \n",
    "der in diu erbe liez . \n",
    "sît nâch sîneme lebene . \n",
    "ein ellenes rîcher man . \n",
    "der ouch in jugende . \n",
    "grôzer êren vile gewan . \n",
    "die hêrren wâren milte . \n",
    "von arte hôch erboren . \n",
    "mit kraft unmâzen küene . \n",
    "die recken ûzerkoren . \n",
    "dâ ze Burgonden . \n",
    "sô was ire lant genant . \n",
    "si vrumeten starkiu wunder . \n",
    "sît in Ètzelen lande . \n",
    "ze Wormeze bî dem Rîne . \n",
    "si woneten mit ire kraft . \n",
    "in dieneten von ire landen . \n",
    "vile stolziu ritterschaft . \n",
    "mit lobelîchen êren . \n",
    "unz an ire endes zît . \n",
    "si sturben jâmerlîche . \n",
    "sît von zweier vrouwen nîde . \n",
    "die drî küninge wâren .\n",
    "als ich gesaget hân . \n",
    "von vile hôhem ellene . \n",
    "in wâren undertân . \n",
    "ouch die bezzisten recken . \n",
    "von den man hât gesaget . \n",
    "starc unde vile küene . \n",
    "in strîten unverzaget . \n",
    "daz was von Tronege Hagene . \n",
    "unde ouch der bruoder sîn . \n",
    "Dancwart der snelle . \n",
    "von Metzen Ortwîn . \n",
    "die zwêne marcgrâven . \n",
    "Gêre unde Ègewart . \n",
    "Volcgêr von Alzeie . \n",
    "mit ganzem ellene wole bewart . \n",
    "Rûmolt der kuchenmeister . \n",
    "ein ûzerwelter degen . \n",
    "Sindolt unde Hûnolt . \n",
    "dise hêrren muosen pflegen . \n",
    "des hoves unde der êren . \n",
    "der drîer küninge manne . \n",
    "si hêten noch manigen recken . \n",
    "des ich genennen nienen kan . \n",
    "Dancwart der was marschalc . \n",
    "dô was der neve sîn . \n",
    "truhtsæze des küninges . \n",
    "von Metzen Ortwîn . \n",
    "Sindolt der was schenke . \n",
    "ein wætlîcher degen . \n",
    "Hûnolt was kamerære . \n",
    "si kunden hôher êren pflegen . \n",
    "von des hoves êre . \n",
    "unde von ire wîten kraft . \n",
    "von ire vile hôhen werdicheit . \n",
    "unde von ire ritterschaft . \n",
    "der die hêrren pflâgen . \n",
    "mit vröuweden al ire leben .\n",
    "des en iu ze wâre . \n",
    "niemen gar ein ende geben . \n",
    "in disen hôhen êren . \n",
    "troumte Kriemhilte . \n",
    "wie si züge einen valken . \n",
    "starc schoene unde wilde . \n",
    "den ir zwêne arne erkrummen . \n",
    "daz si daz muoste sehen . \n",
    "ir en in werlte . \n",
    "leider niemer geschehen . \n",
    "den troum si dô sagete . \n",
    "ire muoter . \n",
    "Uoten si kunde niht bescheiden . \n",
    "baz der guoten . \n",
    "der valke den dû ziuhest . \n",
    "daz ist ein edel man . \n",
    "in welle got behüeten . \n",
    "dû muost in schier verloren hân . \n",
    "waz saget ir mir von manne . \n",
    "vile liebiu muoter mîn . \n",
    "âne recken minne . \n",
    "sô wile ich iemer sîn . \n",
    "sus schoene ich wile belîben . \n",
    "unz an mînen tôt . \n",
    "daz ich vone recken minne . \n",
    "sol gewinnen niemer nôt . \n",
    "nû versprich ez niht ze sêre . \n",
    "sprach ire muoter dô . \n",
    "solte iemer herzenlîche . \n",
    "ze werlte werden vrô . \n",
    "daz kumet vone mannes minne . \n",
    "dû wirdest ein schoene wîp . \n",
    "ob dir got gevüeget . \n",
    "eines rehte guoten ritters lîp . \n",
    "die rede lât belîben . \n",
    "vile liebiu vrouwe mîn . \n",
    "ez ist an manigen wîben . \n",
    "vile dicke worden schîn . \n",
    "wie liebe mit leide . \n",
    "ze lônen kan . \n",
    "ich sol si mîden beide . \n",
    "sô kan mir niemer missegân . \n",
    "Kriemhilt in ire muote . \n",
    "sich minne gar bewac . \n",
    "sît lebete diu vile guote . \n",
    "vile manigen lieben tac . \n",
    "daz si wesse niemen . \n",
    "den minnen wolte ire lîp . \n",
    "sît wart si mit êren . \n",
    "eines vile werden recken wîp . \n",
    "der was der selbe valke . \n",
    "den si in ire troume sach . \n",
    "den ir beschiet ire muoter . \n",
    "wie sêre si daz rach . \n",
    "an ire nâhesten mâgen . \n",
    "die in sluogen sint . \n",
    "durch sîn eines sterben . \n",
    "starp vile manic muoter kint .\n",
    "vil manich mvoter kint\"\"\""
   ]
  },
  {
   "cell_type": "code",
   "execution_count": 5,
   "metadata": {},
   "outputs": [
    {
     "ename": "SyntaxError",
     "evalue": "EOL while scanning string literal (<ipython-input-5-6f47f8b4c814>, line 2)",
     "output_type": "error",
     "traceback": [
      "\u001b[1;36m  File \u001b[1;32m\"<ipython-input-5-6f47f8b4c814>\"\u001b[1;36m, line \u001b[1;32m2\u001b[0m\n\u001b[1;33m    re.sub(r\"\\[[rv]\\])\u001b[0m\n\u001b[1;37m                      ^\u001b[0m\n\u001b[1;31mSyntaxError\u001b[0m\u001b[1;31m:\u001b[0m EOL while scanning string literal\n"
     ]
    }
   ],
   "source": [
    "def normalize(sentence):\n",
    "    re.sub(r\"\\[[rv]\\])\n",
    "    return sentence"
   ]
  },
  {
   "cell_type": "code",
   "execution_count": null,
   "metadata": {},
   "outputs": [],
   "source": [
    "half_lines = [half_line.replace(\".\", \"\").strip() for half_line in normalized_text.strip().split(\"\\n\")]"
   ]
  },
  {
   "cell_type": "code",
   "execution_count": null,
   "metadata": {},
   "outputs": [],
   "source": [
    "lines = [[half_lines[i], half_lines[i+1]]for i in range(0, len(half_lines)-1, 2)]"
   ]
  },
  {
   "cell_type": "code",
   "execution_count": null,
   "metadata": {},
   "outputs": [],
   "source": [
    "lines[0]"
   ]
  },
  {
   "cell_type": "code",
   "execution_count": null,
   "metadata": {},
   "outputs": [],
   "source": [
    "for i, j in zip(lines, nibaugr.read_tei(nibaugr.MAIN_LINKS[0])[0]):\n",
    "    print(i, j)"
   ]
  },
  {
   "cell_type": "code",
   "execution_count": null,
   "metadata": {},
   "outputs": [],
   "source": []
  }
 ],
 "metadata": {
  "kernelspec": {
   "display_name": "Python 3",
   "language": "python",
   "name": "python3"
  },
  "language_info": {
   "codemirror_mode": {
    "name": "ipython",
    "version": 3
   },
   "file_extension": ".py",
   "mimetype": "text/x-python",
   "name": "python",
   "nbconvert_exporter": "python",
   "pygments_lexer": "ipython3",
   "version": "3.7.4"
  }
 },
 "nbformat": 4,
 "nbformat_minor": 2
}
