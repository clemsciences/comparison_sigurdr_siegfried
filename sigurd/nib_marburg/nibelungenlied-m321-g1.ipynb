{
 "cells": [
  {
   "cell_type": "markdown",
   "metadata": {},
   "source": [
    "# Nibelungenlied in Referenzkorpus  Mittelhochdeutsch"
   ]
  },
  {
   "cell_type": "code",
   "execution_count": 27,
   "metadata": {
    "collapsed": true
   },
   "outputs": [],
   "source": [
    "import os\n",
    "import collections\n",
    "from lxml import etree"
   ]
  },
  {
   "cell_type": "code",
   "execution_count": 3,
   "metadata": {
    "collapsed": true
   },
   "outputs": [],
   "source": [
    "link = \"https://www.linguistics.rub.de/rem/access/index.html\""
   ]
  },
  {
   "cell_type": "code",
   "execution_count": 4,
   "metadata": {
    "collapsed": true
   },
   "outputs": [],
   "source": [
    "filename = \"M321-G1.xml\""
   ]
  },
  {
   "cell_type": "code",
   "execution_count": 5,
   "metadata": {
    "collapsed": false
   },
   "outputs": [],
   "source": [
    "stringify = etree.XPath(\"string()\")\n",
    "parser = etree.XMLParser(load_dtd=True, no_network=False)\n",
    "tree = etree.parse(os.path.join(filename), parser=parser)"
   ]
  },
  {
   "cell_type": "code",
   "execution_count": 6,
   "metadata": {
    "collapsed": false
   },
   "outputs": [
    {
     "data": {
      "text/plain": [
       "'<text id=\"M321\">\\n  <header>\\n    <text>Nibelungenlied</text>\\n    <abbr_ddd>Nib</abbr_ddd>\\n    <abbr_m'"
      ]
     },
     "execution_count": 6,
     "metadata": {},
     "output_type": "execute_result"
    }
   ],
   "source": [
    "root = tree.getroot()\n",
    "decoded_root = etree.tostring(root).decode(\"utf-8\")\n",
    "decoded_root[:100]"
   ]
  },
  {
   "cell_type": "code",
   "execution_count": null,
   "metadata": {
    "collapsed": false
   },
   "outputs": [],
   "source": []
  },
  {
   "cell_type": "code",
   "execution_count": 8,
   "metadata": {
    "collapsed": true
   },
   "outputs": [],
   "source": [
    "def extract_annotations(entry):\n",
    "    return {child.tag: child.get(\"tag\") for child in entry.getchildren()}"
   ]
  },
  {
   "cell_type": "code",
   "execution_count": 9,
   "metadata": {
    "collapsed": false
   },
   "outputs": [],
   "source": [
    "tokens = [extract_annotations(entry) for entry in root.findall(\".//tok_anno\")]"
   ]
  },
  {
   "cell_type": "code",
   "execution_count": 11,
   "metadata": {
    "collapsed": true
   },
   "outputs": [],
   "source": [
    "def extract_by_tag(tag, tokens):\n",
    "    return [token[tag] for token in tokens if tag in token]"
   ]
  },
  {
   "cell_type": "code",
   "execution_count": 9,
   "metadata": {
    "collapsed": false
   },
   "outputs": [],
   "source": [
    "normalized_text = extract_by_tag(\"norm\", tokens)"
   ]
  },
  {
   "cell_type": "markdown",
   "metadata": {},
   "source": [
    "## Lemmata"
   ]
  },
  {
   "cell_type": "code",
   "execution_count": 12,
   "metadata": {
    "collapsed": false
   },
   "outputs": [],
   "source": [
    "lemmata = extract_by_tag(\"lemma\", tokens)"
   ]
  },
  {
   "cell_type": "code",
   "execution_count": 29,
   "metadata": {
    "collapsed": false
   },
   "outputs": [],
   "source": [
    "counter_nibelungenlied = collections.Counter(lemmata)"
   ]
  },
  {
   "cell_type": "code",
   "execution_count": 32,
   "metadata": {
    "collapsed": false
   },
   "outputs": [
    {
     "data": {
      "text/plain": [
       "[('dër', 1536),\n",
       " ('ër', 976),\n",
       " ('ich', 282),\n",
       " ('dô', 274),\n",
       " ('sîn', 256),\n",
       " ('vil(e)', 248),\n",
       " ('unte', 247),\n",
       " ('von', 197),\n",
       " ('haben', 191),\n",
       " ('wësen', 189),\n",
       " ('ir', 184),\n",
       " ('ze', 175),\n",
       " ('mit', 168),\n",
       " ('dazz', 166),\n",
       " ('ir(e)', 139),\n",
       " ('sô', 136),\n",
       " ('in', 131),\n",
       " ('dâr', 127),\n",
       " ('sprëchen', 117),\n",
       " ('küni(n)g', 113)]"
      ]
     },
     "execution_count": 32,
     "metadata": {},
     "output_type": "execute_result"
    }
   ],
   "source": [
    "counter_nibelungenlied.most_common(20)"
   ]
  },
  {
   "cell_type": "code",
   "execution_count": 13,
   "metadata": {
    "collapsed": true
   },
   "outputs": [],
   "source": [
    "lemmata_set = set(lemmata)"
   ]
  },
  {
   "cell_type": "code",
   "execution_count": 14,
   "metadata": {
    "collapsed": false
   },
   "outputs": [
    {
     "data": {
      "text/plain": [
       "(15073, 1374)"
      ]
     },
     "execution_count": 14,
     "metadata": {},
     "output_type": "execute_result"
    }
   ],
   "source": [
    "len(lemmata), len(lemmata_set)"
   ]
  },
  {
   "cell_type": "code",
   "execution_count": 16,
   "metadata": {
    "collapsed": false
   },
   "outputs": [],
   "source": [
    "normalized_to_lemma = {token[\"norm\"]: token[\"lemma\"] for token in tokens if \"lemma\" in token}"
   ]
  },
  {
   "cell_type": "code",
   "execution_count": 25,
   "metadata": {
    "collapsed": true
   },
   "outputs": [],
   "source": [
    "lemma_to_normalized = {lemma: {token[\"norm\"] for token in tokens \n",
    "                               if \"norm\" in token and \"lemma\" in token and token[\"lemma\"] == lemma}\n",
    "                       for lemma in lemmata_set}"
   ]
  },
  {
   "cell_type": "code",
   "execution_count": 26,
   "metadata": {
    "collapsed": false
   },
   "outputs": [
    {
     "data": {
      "text/plain": [
       "{'Nibelunc', 'Nibelunge', 'Nibelungen', 'Nibelunges'}"
      ]
     },
     "execution_count": 26,
     "metadata": {},
     "output_type": "execute_result"
    }
   ],
   "source": [
    "lemma_to_normalized[\"Nibelung\"]"
   ]
  },
  {
   "cell_type": "code",
   "execution_count": null,
   "metadata": {
    "collapsed": true
   },
   "outputs": [],
   "source": []
  },
  {
   "cell_type": "code",
   "execution_count": null,
   "metadata": {
    "collapsed": true
   },
   "outputs": [],
   "source": []
  },
  {
   "cell_type": "markdown",
   "metadata": {},
   "source": [
    "## *Pars oratori*"
   ]
  },
  {
   "cell_type": "code",
   "execution_count": 33,
   "metadata": {
    "collapsed": true
   },
   "outputs": [],
   "source": [
    "pos_tags = extract_by_tag(\"pos\", tokens)"
   ]
  },
  {
   "cell_type": "code",
   "execution_count": 34,
   "metadata": {
    "collapsed": true
   },
   "outputs": [],
   "source": [
    "pos_set = set(pos_tags)"
   ]
  },
  {
   "cell_type": "code",
   "execution_count": 35,
   "metadata": {
    "collapsed": false
   },
   "outputs": [
    {
     "data": {
      "text/plain": [
       "(18499, 58)"
      ]
     },
     "execution_count": 35,
     "metadata": {},
     "output_type": "execute_result"
    }
   ],
   "source": [
    "len(pos_tags), len(pos_set)"
   ]
  },
  {
   "cell_type": "code",
   "execution_count": 76,
   "metadata": {
    "collapsed": false
   },
   "outputs": [],
   "source": [
    "pos_to_lemmata = {pos: {token[\"lemma\"] for token in tokens \n",
    "                               if \"lemma\" in token and \"pos\" in token and token[\"pos\"] == pos}\n",
    "                       for pos in pos_set}"
   ]
  },
  {
   "cell_type": "code",
   "execution_count": 40,
   "metadata": {
    "collapsed": false
   },
   "outputs": [
    {
     "data": {
      "text/plain": [
       "'$_'"
      ]
     },
     "execution_count": 40,
     "metadata": {},
     "output_type": "execute_result"
    }
   ],
   "source": [
    "sorted(list(pos_set))[0] # originale Interpunktion"
   ]
  },
  {
   "cell_type": "code",
   "execution_count": 77,
   "metadata": {
    "collapsed": false
   },
   "outputs": [
    {
     "data": {
      "text/plain": [
       "set()"
      ]
     },
     "execution_count": 77,
     "metadata": {},
     "output_type": "execute_result"
    }
   ],
   "source": [
    "pos_to_lemmata[\"$_\"]"
   ]
  },
  {
   "cell_type": "code",
   "execution_count": 49,
   "metadata": {
    "collapsed": false
   },
   "outputs": [
    {
     "data": {
      "text/plain": [
       "['ADJA', 'ADJS', 'ADJD', 'ADJN']"
      ]
     },
     "execution_count": 49,
     "metadata": {},
     "output_type": "execute_result"
    }
   ],
   "source": [
    "[pos for pos in pos_set if pos.startswith(\"ADJ\")] # Adjectives"
   ]
  },
  {
   "cell_type": "code",
   "execution_count": 80,
   "metadata": {
    "collapsed": false
   },
   "outputs": [
    {
     "data": {
      "text/plain": [
       "{'aht-zëhent',\n",
       " 'aller-bèzzest',\n",
       " 'aller-groèzest',\n",
       " 'aller-mèist',\n",
       " 'alt',\n",
       " 'angest-lich',\n",
       " 'arg',\n",
       " 'arm',\n",
       " 'bluotig',\n",
       " 'bè(zzi)st',\n",
       " 'bèzzer',\n",
       " 'dritt',\n",
       " 'ganz',\n",
       " 'ge-mèine',\n",
       " 'ge-nuog(e)',\n",
       " 'ge-triuwe',\n",
       " 'ge-triuwe-lich',\n",
       " 'grimm(e)',\n",
       " 'grimmig',\n",
       " 'grôz',\n",
       " 'grôz-lich',\n",
       " 'guot',\n",
       " 'guot-lich',\n",
       " 'gæhe',\n",
       " 'hol',\n",
       " 'hold',\n",
       " 'hundert',\n",
       " 'hèiden',\n",
       " 'hèiz',\n",
       " 'hèrte',\n",
       " 'hêr-lich',\n",
       " 'hôh',\n",
       " 'hôh-ge-muot',\n",
       " 'ite-niuwe',\n",
       " 'jung',\n",
       " 'jâmer-haft',\n",
       " 'klingen',\n",
       " 'klèine',\n",
       " 'kristen',\n",
       " 'kristen-lich',\n",
       " 'krèftig',\n",
       " 'krèftig-lich',\n",
       " 'kund',\n",
       " 'kurz',\n",
       " 'küène',\n",
       " 'lièb',\n",
       " 'lièht',\n",
       " 'lobe-lich',\n",
       " 'lèid',\n",
       " 'lèid-lich',\n",
       " 'lèzzest',\n",
       " 'michel',\n",
       " 'milte',\n",
       " 'minnig-lich',\n",
       " 'mitte',\n",
       " 'mânig',\n",
       " 'mêr(e)',\n",
       " 'nagel(e)n',\n",
       " 'niuwe',\n",
       " 'nâh',\n",
       " 'rëht',\n",
       " 'rîche',\n",
       " 'rîtære-lich',\n",
       " 'rôt',\n",
       " 'scharpf',\n",
       " 'schoène',\n",
       " 'sibent',\n",
       " 'slahen',\n",
       " 'snëll',\n",
       " 'stark',\n",
       " 'stolz',\n",
       " 'strît-müède',\n",
       " 'sturm-küène',\n",
       " 'stæte',\n",
       " 'swach',\n",
       " 'swiè-ge-tân',\n",
       " 'sèmfte',\n",
       " 'sëhst',\n",
       " 'sëlt-sæne',\n",
       " 'süèze',\n",
       " 'tièf',\n",
       " 'tumb',\n",
       " 'tuon',\n",
       " 'tôd-wunt',\n",
       " 'tûsent',\n",
       " 'un-ge-muot',\n",
       " 'un-ge-vüège',\n",
       " 'un-mâz',\n",
       " 'var(e)nte',\n",
       " 'vil(e)',\n",
       " 'viur-rôt',\n",
       " 'vièrd',\n",
       " 'vlièzen',\n",
       " 'voll',\n",
       " 'vroè-lich',\n",
       " 'vrèm(e)de',\n",
       " 'vèige',\n",
       " 'vèste',\n",
       " 'wilde',\n",
       " 'willig',\n",
       " 'wunter-küène',\n",
       " 'wâr',\n",
       " 'wæt-lich',\n",
       " 'wèinen',\n",
       " 'wëge-müède',\n",
       " 'wërd',\n",
       " 'wîs(e)',\n",
       " 'wît',\n",
       " 'wîz',\n",
       " 'zièr-lich',\n",
       " 'zwèl(i)ft',\n",
       " 'èdel(e)',\n",
       " 'èinig',\n",
       " 'èl-lènte',\n",
       " 'èllent-haft',\n",
       " 'êr(e)st',\n",
       " 'ûz-er-wèl(e)t',\n",
       " 'übel',\n",
       " 'über-müète'}"
      ]
     },
     "execution_count": 80,
     "metadata": {},
     "output_type": "execute_result"
    }
   ],
   "source": [
    "pos_to_lemmata[\"ADJA\"]"
   ]
  },
  {
   "cell_type": "code",
   "execution_count": 81,
   "metadata": {
    "collapsed": false
   },
   "outputs": [
    {
     "data": {
      "text/plain": [
       "{'hundert', 'lëben', 'tûsent', 'wërben'}"
      ]
     },
     "execution_count": 81,
     "metadata": {},
     "output_type": "execute_result"
    }
   ],
   "source": [
    "pos_to_lemmata[\"ADJS\"]"
   ]
  },
  {
   "cell_type": "code",
   "execution_count": 82,
   "metadata": {
    "collapsed": false
   },
   "outputs": [
    {
     "data": {
      "text/plain": [
       "{'all-wâre',\n",
       " 'arm',\n",
       " 'be-kant',\n",
       " 'be-rèit(e)',\n",
       " 'be-rèitet',\n",
       " 'blôz',\n",
       " 'brèit',\n",
       " 'er-kant',\n",
       " 'ge-hazz',\n",
       " 'ge-muot',\n",
       " 'ge-mèit',\n",
       " 'ge-nædig-lich',\n",
       " 'ge-rëht',\n",
       " 'ge-sunt',\n",
       " 'ge-sëzzen',\n",
       " 'ge-triuwe',\n",
       " 'ge-tân',\n",
       " 'ge-waltig',\n",
       " 'ge-wiss',\n",
       " 'grimm(e)',\n",
       " 'grème-lich',\n",
       " 'grôz',\n",
       " 'guot',\n",
       " 'gërn(e)',\n",
       " 'hold',\n",
       " 'hêr-lich',\n",
       " 'hövisch',\n",
       " 'kund',\n",
       " 'künde',\n",
       " 'küène',\n",
       " 'lang',\n",
       " 'lièb',\n",
       " 'lièht',\n",
       " 'lobe-lich',\n",
       " 'lære',\n",
       " 'lèid',\n",
       " 'michel',\n",
       " 'milte',\n",
       " 'nazz',\n",
       " 'niuwe',\n",
       " 'offen',\n",
       " 'rëht',\n",
       " 'rîche',\n",
       " 'rôt',\n",
       " 'scharpf',\n",
       " 'schoène',\n",
       " 'schuldig',\n",
       " 'schîn',\n",
       " 'sippe',\n",
       " 'stark',\n",
       " 'swære',\n",
       " 'sælig',\n",
       " 'tiur(e)',\n",
       " 'tièf',\n",
       " 'trûrig',\n",
       " 'trüèbe',\n",
       " 'tôt',\n",
       " 'un-be-kant',\n",
       " 'un-ge-bunten',\n",
       " 'un-ge-logen',\n",
       " 'un-ge-schèiden',\n",
       " 'un-ge-tèilet',\n",
       " 'un-künde',\n",
       " 'un-müge-lich',\n",
       " 'un-müèzig',\n",
       " 'un-ver-daget',\n",
       " 'un-ver-diènet',\n",
       " 'un-ver-zaget',\n",
       " 'unter-tân',\n",
       " 'vroè-lich',\n",
       " 'vrum',\n",
       " 'vrèm(e)de',\n",
       " 'vrô',\n",
       " 'wille-komen',\n",
       " 'wît',\n",
       " 'zornig',\n",
       " 'èdel(e)',\n",
       " 'èl-lènte',\n",
       " 'übel',\n",
       " 'über-müète'}"
      ]
     },
     "execution_count": 82,
     "metadata": {},
     "output_type": "execute_result"
    }
   ],
   "source": [
    "pos_to_lemmata[\"ADJD\"]"
   ]
  },
  {
   "cell_type": "code",
   "execution_count": 83,
   "metadata": {
    "collapsed": false
   },
   "outputs": [
    {
     "data": {
      "text/plain": [
       "{'bald',\n",
       " 'bi-dèrbe',\n",
       " 'brèit',\n",
       " 'ge-mèit',\n",
       " 'ge-tân',\n",
       " 'grôz',\n",
       " 'guot',\n",
       " 'hêr(e)',\n",
       " 'hôh',\n",
       " 'jung',\n",
       " 'küène',\n",
       " 'lang',\n",
       " 'lièht-ge-varw',\n",
       " 'lobe-bære',\n",
       " 'lobe-lich',\n",
       " 'lobe-sam',\n",
       " 'mære',\n",
       " 'niuwe',\n",
       " 'rîche',\n",
       " 'rôt',\n",
       " 'schoène',\n",
       " 'snëll',\n",
       " 'stark',\n",
       " 'swind(e)',\n",
       " 'tièf',\n",
       " 'vrèm(e)de',\n",
       " 'vèste',\n",
       " 'wilde',\n",
       " 'wît',\n",
       " 'èdel(e)',\n",
       " 'ûz-er-kor(e)n'}"
      ]
     },
     "execution_count": 83,
     "metadata": {},
     "output_type": "execute_result"
    }
   ],
   "source": [
    "pos_to_lemmata[\"ADJN\"]"
   ]
  },
  {
   "cell_type": "code",
   "execution_count": 51,
   "metadata": {
    "collapsed": false
   },
   "outputs": [
    {
     "data": {
      "text/plain": [
       "['APPR']"
      ]
     },
     "execution_count": 51,
     "metadata": {},
     "output_type": "execute_result"
    }
   ],
   "source": [
    "[pos for pos in pos_set if pos.startswith(\"AP\")] # Prepositions"
   ]
  },
  {
   "cell_type": "code",
   "execution_count": 85,
   "metadata": {
    "collapsed": false
   },
   "outputs": [
    {
     "data": {
      "text/plain": [
       "{'abe',\n",
       " 'after',\n",
       " 'ane',\n",
       " 'bî',\n",
       " 'durh',\n",
       " 'gègen',\n",
       " 'hinter',\n",
       " 'in',\n",
       " 'mit',\n",
       " 'mit-same(n)t',\n",
       " 'nâh',\n",
       " 'umbe',\n",
       " 'unter',\n",
       " 'von',\n",
       " 'vor(e)',\n",
       " 'vür(e)',\n",
       " 'wider',\n",
       " 'ze',\n",
       " 'zuo-ze',\n",
       " 'zwischen',\n",
       " 'âne',\n",
       " 'ûf',\n",
       " 'ûz',\n",
       " 'ûzer',\n",
       " 'über'}"
      ]
     },
     "execution_count": 85,
     "metadata": {},
     "output_type": "execute_result"
    }
   ],
   "source": [
    "pos_to_lemmata[\"APPR\"]"
   ]
  },
  {
   "cell_type": "code",
   "execution_count": 52,
   "metadata": {
    "collapsed": false
   },
   "outputs": [
    {
     "data": {
      "text/plain": [
       "['AVD', 'AVW', 'AVG']"
      ]
     },
     "execution_count": 52,
     "metadata": {},
     "output_type": "execute_result"
    }
   ],
   "source": [
    "[pos for pos in pos_set if pos.startswith(\"AV\")] # Adverbs"
   ]
  },
  {
   "cell_type": "code",
   "execution_count": 86,
   "metadata": {
    "collapsed": false
   },
   "outputs": [
    {
     "data": {
      "text/plain": [
       "[{'aber',\n",
       "  'al',\n",
       "  'all-dâr',\n",
       "  'all-sam(e)',\n",
       "  'all-sô',\n",
       "  'all-umbe',\n",
       "  'all-ze-hant',\n",
       "  'all-èin(e)',\n",
       "  'allen-halb(en)',\n",
       "  'aller-êr(e)ste',\n",
       "  'alter(e)s-èine',\n",
       "  'ander(e)s',\n",
       "  'ander(e)s-wâr',\n",
       "  'ane',\n",
       "  'angest-lîche',\n",
       "  'balde',\n",
       "  'bazz',\n",
       "  'be-gègene',\n",
       "  'bil-lîche',\n",
       "  'bitter-lîche',\n",
       "  'bè(zzi)ste',\n",
       "  'dan-noh',\n",
       "  'danne',\n",
       "  'dannen',\n",
       "  'dar(e)',\n",
       "  'dicke',\n",
       "  'doh',\n",
       "  'dort',\n",
       "  'dâr',\n",
       "  'dëgen-lîche',\n",
       "  'dëste',\n",
       "  'dô',\n",
       "  'en-gègen(e)',\n",
       "  'er-bolgen-lîche',\n",
       "  'gar(e)',\n",
       "  'ge-lîche',\n",
       "  'ge-nuog(e)',\n",
       "  'ge-waltig-lîche',\n",
       "  'grimme',\n",
       "  'grème-lîche',\n",
       "  'grôz-lîche',\n",
       "  'grôze',\n",
       "  'guot-lîche',\n",
       "  'gërne',\n",
       "  'halt',\n",
       "  'harte',\n",
       "  'hin(e)',\n",
       "  'hinne',\n",
       "  'hinnen',\n",
       "  'hiute',\n",
       "  'hièr',\n",
       "  'hurtig-lîche',\n",
       "  'hèim',\n",
       "  'hèime-lîche',\n",
       "  'hèize',\n",
       "  'hêr-lîche',\n",
       "  'hêrren-lîche',\n",
       "  'hër(e)',\n",
       "  'hërze(n)-lîche',\n",
       "  'hôhe',\n",
       "  'iht',\n",
       "  'innig-lîche',\n",
       "  'iè',\n",
       "  'iè-doh',\n",
       "  'ièmer',\n",
       "  'joh',\n",
       "  'jungest(e)',\n",
       "  'jâ',\n",
       "  'jâmer-lîche',\n",
       "  'krèftig-lîche',\n",
       "  'kûme',\n",
       "  'lange',\n",
       "  'laster-lîche',\n",
       "  'lièbe',\n",
       "  'lobe-lîche',\n",
       "  'lèide',\n",
       "  'lèider',\n",
       "  'lîhte',\n",
       "  'lûte',\n",
       "  'lützel',\n",
       "  'michel',\n",
       "  'minnig-lîche',\n",
       "  'mit(e)',\n",
       "  'mord-lîche',\n",
       "  'mêr(e)',\n",
       "  'niden(e)',\n",
       "  'nider(e)',\n",
       "  'niuwan',\n",
       "  'niè',\n",
       "  'nièmer',\n",
       "  'niènder',\n",
       "  'niène',\n",
       "  'noh',\n",
       "  'nâhe',\n",
       "  'nâhen(e)',\n",
       "  'nû',\n",
       "  'ouch',\n",
       "  'rëhte',\n",
       "  'samfte',\n",
       "  'schière',\n",
       "  'schône',\n",
       "  'sicher-lîche',\n",
       "  'sider',\n",
       "  'sint',\n",
       "  'spâte',\n",
       "  'starke',\n",
       "  'sunder',\n",
       "  'sus',\n",
       "  'sâr',\n",
       "  'sène-lîche',\n",
       "  'sêre',\n",
       "  'sëlten(e)',\n",
       "  'sîd',\n",
       "  'sô',\n",
       "  'tobe-lîche',\n",
       "  'tougen-lîche',\n",
       "  'trûrig-lîche',\n",
       "  'un-gërne',\n",
       "  'un-mâzen',\n",
       "  'un-samfte',\n",
       "  'unten(e)',\n",
       "  'unter-wîlen(t)',\n",
       "  'unz(e)',\n",
       "  'vaste',\n",
       "  'vil(e)',\n",
       "  'vlîzig-lîche',\n",
       "  'vol',\n",
       "  'vollig-lîche',\n",
       "  'von(e)',\n",
       "  'vriunt-lîche',\n",
       "  'vroè-lîche',\n",
       "  'vruo',\n",
       "  'vrèis-lîche',\n",
       "  'vërre',\n",
       "  'vîent-lîche',\n",
       "  'wan',\n",
       "  'wazz',\n",
       "  'wider(e)',\n",
       "  'willig-lîche',\n",
       "  'wirs',\n",
       "  'wol(e)',\n",
       "  'wæt-lîche',\n",
       "  'wèr(e)-lîche',\n",
       "  'wê',\n",
       "  'wîten(e)',\n",
       "  'ze-hant',\n",
       "  'ze-samen(e)',\n",
       "  'zühtig-lîche',\n",
       "  'èine',\n",
       "  'ènte-lîche',\n",
       "  'êr',\n",
       "  'êr(e)ste',\n",
       "  'ëben(e)',\n",
       "  'ëht',\n",
       "  'ëte(s)-wènne',\n",
       "  'ûf',\n",
       "  'ûz',\n",
       "  'ûzen(e)',\n",
       "  'übel(e)',\n",
       "  'über-all'},\n",
       " {'wanne', 'wannen', 'war(e)', 'wiè', 'wâr'},\n",
       " {'swanne', 'swannen', 'swiè', 'swâr'}]"
      ]
     },
     "execution_count": 86,
     "metadata": {},
     "output_type": "execute_result"
    }
   ],
   "source": [
    "[pos_to_lemmata[pos] for pos in [pos for pos in pos_set if pos.startswith(\"AV\")]]"
   ]
  },
  {
   "cell_type": "code",
   "execution_count": 87,
   "metadata": {
    "collapsed": false
   },
   "outputs": [
    {
     "data": {
      "text/plain": [
       "[{'vièr', 'zwèl(i)v', 'zwêne', 'èin'},\n",
       " {'drî',\n",
       "  'siben',\n",
       "  'siben-zëhen',\n",
       "  'vièr',\n",
       "  'zwèin-zig',\n",
       "  'zwèl(i)v',\n",
       "  'zwêne',\n",
       "  'èin'}]"
      ]
     },
     "execution_count": 87,
     "metadata": {},
     "output_type": "execute_result"
    }
   ],
   "source": [
    "# Numbers\n",
    "[pos_to_lemmata[pos] for pos in pos_set if pos.startswith(\"CAR\")]"
   ]
  },
  {
   "cell_type": "code",
   "execution_count": 55,
   "metadata": {
    "collapsed": false
   },
   "outputs": [
    {
     "data": {
      "text/plain": [
       "['DDA', 'DDS', 'DDN', 'DDART']"
      ]
     },
     "execution_count": 55,
     "metadata": {},
     "output_type": "execute_result"
    }
   ],
   "source": [
    "# definite determinants\n",
    "[pos for pos in pos_set if pos.startswith(\"DD\")]"
   ]
  },
  {
   "cell_type": "code",
   "execution_count": 89,
   "metadata": {
    "collapsed": false
   },
   "outputs": [
    {
     "data": {
      "text/plain": [
       "[{'dise', 'jèner', 'so-l(i)ch', 'sëlb'}, {'dër', 'sëlb'}, {'sëlb'}, {'dër'}]"
      ]
     },
     "execution_count": 89,
     "metadata": {},
     "output_type": "execute_result"
    }
   ],
   "source": [
    "[ pos_to_lemmata[pos] for pos in [pos for pos in [pos for pos in pos_set if pos.startswith(\"DD\")]]]"
   ]
  },
  {
   "cell_type": "code",
   "execution_count": 56,
   "metadata": {
    "collapsed": false
   },
   "outputs": [
    {
     "data": {
      "text/plain": [
       "['DGA']"
      ]
     },
     "execution_count": 56,
     "metadata": {},
     "output_type": "execute_result"
    }
   ],
   "source": [
    "# general determinants\n",
    "[pos for pos in pos_set if pos.startswith(\"DG\")]"
   ]
  },
  {
   "cell_type": "code",
   "execution_count": 91,
   "metadata": {
    "collapsed": false
   },
   "outputs": [
    {
     "data": {
      "text/plain": [
       "[{'swèl(i)ch', 'swëder'}]"
      ]
     },
     "execution_count": 91,
     "metadata": {},
     "output_type": "execute_result"
    }
   ],
   "source": [
    "[pos_to_lemmata[pos] for pos in [pos for pos in pos_set if pos.startswith(\"DG\")]]"
   ]
  },
  {
   "cell_type": "code",
   "execution_count": 57,
   "metadata": {
    "collapsed": false
   },
   "outputs": [
    {
     "data": {
      "text/plain": [
       "['DIS', 'DIN', 'DIART', 'DIA', 'DID']"
      ]
     },
     "execution_count": 57,
     "metadata": {},
     "output_type": "execute_result"
    }
   ],
   "source": [
    "# Indefinite determinants\n",
    "[pos for pos in pos_set if pos.startswith(\"DI\")]"
   ]
  },
  {
   "cell_type": "code",
   "execution_count": 92,
   "metadata": {
    "collapsed": false
   },
   "outputs": [
    {
     "data": {
      "text/plain": [
       "[{'all', 'ander', 'bèide', 'deh-èin', 'iètes-lich', 'manig'},\n",
       " {'all', 'bèide'},\n",
       " {'èin'},\n",
       " {'all',\n",
       "  'all-so-l(i)ch',\n",
       "  'bèide',\n",
       "  'de-wëder',\n",
       "  'deh-èin',\n",
       "  'iè-mann',\n",
       "  'ièd-wëder',\n",
       "  'iètes-lich',\n",
       "  'manig',\n",
       "  'niè-mann',\n",
       "  'èin',\n",
       "  'èin-ander',\n",
       "  'ëte(s)-lich'},\n",
       " {'bèide'}]"
      ]
     },
     "execution_count": 92,
     "metadata": {},
     "output_type": "execute_result"
    }
   ],
   "source": [
    "[pos_to_lemmata[pos] for pos in [pos for pos in pos_set if pos.startswith(\"DI\")]]"
   ]
  },
  {
   "cell_type": "code",
   "execution_count": 58,
   "metadata": {
    "collapsed": false
   },
   "outputs": [
    {
     "data": {
      "text/plain": [
       "['DPOSN', 'DPOSS', 'DPOSA']"
      ]
     },
     "execution_count": 58,
     "metadata": {},
     "output_type": "execute_result"
    }
   ],
   "source": [
    "# possessive determinants\n",
    "[pos for pos in pos_set if pos.startswith(\"DP\")]"
   ]
  },
  {
   "cell_type": "code",
   "execution_count": 94,
   "metadata": {
    "collapsed": false
   },
   "outputs": [
    {
     "data": {
      "text/plain": [
       "[{'dîn', 'mîn', 'sîn'},\n",
       " {'mîn', 'sîn'},\n",
       " {'dîn', 'ir(e)', 'iuwer', 'mîn', 'sîn', 'unser'}]"
      ]
     },
     "execution_count": 94,
     "metadata": {},
     "output_type": "execute_result"
    }
   ],
   "source": [
    "[ pos_to_lemmata[pos] for pos in [pos for pos in pos_set if pos.startswith(\"DP\")]]"
   ]
  },
  {
   "cell_type": "code",
   "execution_count": 61,
   "metadata": {
    "collapsed": false
   },
   "outputs": [
    {
     "data": {
      "text/plain": [
       "['DRELS']"
      ]
     },
     "execution_count": 61,
     "metadata": {},
     "output_type": "execute_result"
    }
   ],
   "source": [
    "# relative determinants\n",
    "[pos for pos in pos_set if pos.startswith(\"DR\")]"
   ]
  },
  {
   "cell_type": "code",
   "execution_count": 96,
   "metadata": {
    "collapsed": false
   },
   "outputs": [
    {
     "data": {
      "text/plain": [
       "{'dër'}"
      ]
     },
     "execution_count": 96,
     "metadata": {},
     "output_type": "execute_result"
    }
   ],
   "source": [
    "pos_to_lemmata[\"DRELS\"]"
   ]
  },
  {
   "cell_type": "code",
   "execution_count": 63,
   "metadata": {
    "collapsed": false
   },
   "outputs": [
    {
     "data": {
      "text/plain": [
       "[]"
      ]
     },
     "execution_count": 63,
     "metadata": {},
     "output_type": "execute_result"
    }
   ],
   "source": [
    "# interrogative determinants\n",
    "[pos for pos in pos_set if pos.startswith(\"DW\")]"
   ]
  },
  {
   "cell_type": "code",
   "execution_count": 64,
   "metadata": {
    "collapsed": false
   },
   "outputs": [
    {
     "data": {
      "text/plain": [
       "[]"
      ]
     },
     "execution_count": 64,
     "metadata": {},
     "output_type": "execute_result"
    }
   ],
   "source": [
    "# foreign words\n",
    "[pos for pos in pos_set if pos.startswith(\"FM\")]"
   ]
  },
  {
   "cell_type": "code",
   "execution_count": 66,
   "metadata": {
    "collapsed": false
   },
   "outputs": [
    {
     "data": {
      "text/plain": [
       "['ITJ']"
      ]
     },
     "execution_count": 66,
     "metadata": {},
     "output_type": "execute_result"
    }
   ],
   "source": [
    "# Interjection\n",
    "[pos for pos in pos_set if pos.startswith(\"ITJ\")]"
   ]
  },
  {
   "cell_type": "code",
   "execution_count": 97,
   "metadata": {
    "collapsed": false
   },
   "outputs": [
    {
     "data": {
      "text/plain": [
       "{'ach', 'hèi', 'wâfen', 'wê', 'ô'}"
      ]
     },
     "execution_count": 97,
     "metadata": {},
     "output_type": "execute_result"
    }
   ],
   "source": [
    "pos_to_lemmata[\"ITJ\"]"
   ]
  },
  {
   "cell_type": "code",
   "execution_count": 67,
   "metadata": {
    "collapsed": false
   },
   "outputs": [
    {
     "data": {
      "text/plain": [
       "['KOUS', 'KON', 'KOKOM', 'KO*']"
      ]
     },
     "execution_count": 67,
     "metadata": {},
     "output_type": "execute_result"
    }
   ],
   "source": [
    "# Conjunctions\n",
    "[pos for pos in pos_set if pos.startswith(\"KO\")]"
   ]
  },
  {
   "cell_type": "code",
   "execution_count": 98,
   "metadata": {
    "collapsed": false
   },
   "outputs": [
    {
     "data": {
      "text/plain": [
       "[{'danne',\n",
       "  'dazz',\n",
       "  'diè~wîle',\n",
       "  'durh~dazz',\n",
       "  'dô',\n",
       "  'nû',\n",
       "  'obe',\n",
       "  'sîd',\n",
       "  'unz(e)',\n",
       "  'unz(e)~dazz',\n",
       "  'wan',\n",
       "  'wan~dazz',\n",
       "  'êr'},\n",
       " {'bèide', 'dës', 'noh', 'oder', 'unte'},\n",
       " {'danne', 'wan'},\n",
       " {'all-sam(e)',\n",
       "  'all-sô',\n",
       "  'sam(e)',\n",
       "  'swanne~dazz',\n",
       "  'sît~dazz',\n",
       "  'sô',\n",
       "  'wante',\n",
       "  'wëder',\n",
       "  'ê~dazz'}]"
      ]
     },
     "execution_count": 98,
     "metadata": {},
     "output_type": "execute_result"
    }
   ],
   "source": [
    "[pos_to_lemmata[pos] for pos in [pos for pos in pos_set if pos.startswith(\"KO\")]]"
   ]
  },
  {
   "cell_type": "code",
   "execution_count": 68,
   "metadata": {
    "collapsed": false
   },
   "outputs": [
    {
     "data": {
      "text/plain": [
       "['NA', 'NE']"
      ]
     },
     "execution_count": 68,
     "metadata": {},
     "output_type": "execute_result"
    }
   ],
   "source": [
    "# Nouns\n",
    "[pos for pos in pos_set if pos.startswith(\"N\")]"
   ]
  },
  {
   "cell_type": "code",
   "execution_count": 99,
   "metadata": {
    "collapsed": false
   },
   "outputs": [
    {
     "data": {
      "text/plain": [
       "[{'all', 'ander', 'bèide', 'deh-èin', 'iètes-lich', 'manig'},\n",
       " {'all', 'bèide'},\n",
       " {'èin'},\n",
       " {'all',\n",
       "  'all-so-l(i)ch',\n",
       "  'bèide',\n",
       "  'de-wëder',\n",
       "  'deh-èin',\n",
       "  'iè-mann',\n",
       "  'ièd-wëder',\n",
       "  'iètes-lich',\n",
       "  'manig',\n",
       "  'niè-mann',\n",
       "  'èin',\n",
       "  'èin-ander',\n",
       "  'ëte(s)-lich'},\n",
       " {'bèide'}]"
      ]
     },
     "execution_count": 99,
     "metadata": {},
     "output_type": "execute_result"
    }
   ],
   "source": [
    "[pos_to_lemmata[pos] for pos in [pos for pos in pos_set if pos.startswith(\"DI\")]]"
   ]
  },
  {
   "cell_type": "code",
   "execution_count": 69,
   "metadata": {
    "collapsed": false
   },
   "outputs": [
    {
     "data": {
      "text/plain": [
       "['PAVG', 'PAVW', 'PAVD', 'PAVAP']"
      ]
     },
     "execution_count": 69,
     "metadata": {},
     "output_type": "execute_result"
    }
   ],
   "source": [
    "# pronominal adverbs\n",
    "[pos for pos in pos_set if pos.startswith(\"PA\")]"
   ]
  },
  {
   "cell_type": "code",
   "execution_count": 100,
   "metadata": {
    "collapsed": false
   },
   "outputs": [
    {
     "data": {
      "text/plain": [
       "[{'swâr/+nâh'},\n",
       " {'wâr/+mit(e)', 'wâr/+umbe', 'wâr/+von(e)'},\n",
       " {'dâr/+ane',\n",
       "  'dâr/+bî',\n",
       "  'dâr/+hèime',\n",
       "  'dâr/+inne',\n",
       "  'dâr/+mit(e)',\n",
       "  'dâr/+nâh',\n",
       "  'dâr/+umbe',\n",
       "  'dâr/+unter',\n",
       "  'dâr/+von(e)',\n",
       "  'dâr/+vor(e)',\n",
       "  'dâr/+wider(e)',\n",
       "  'dâr/+zuo',\n",
       "  'dâr/+în',\n",
       "  'dâr/+über(e)',\n",
       "  'dâr/.+ane',\n",
       "  'dâr/.+unter.+',\n",
       "  'hièr/+inne'},\n",
       " {'ane/dâr+',\n",
       "  'ane/dâr.+',\n",
       "  'bî/dâr+',\n",
       "  'hèime/dâr+',\n",
       "  'inne/dâr+',\n",
       "  'inne/hièr+',\n",
       "  'mit(e)/dâr+',\n",
       "  'mit(e)/wâr+',\n",
       "  'nâh/dâr+',\n",
       "  'nâh/swâr+',\n",
       "  'umbe/dâr+',\n",
       "  'umbe/wâr+',\n",
       "  'unter/dâr+',\n",
       "  'unter/dâr.+',\n",
       "  'von(e)/dâr+',\n",
       "  'von(e)/wâr+',\n",
       "  'vor(e)/dâr+',\n",
       "  'wider(e)/dâr+',\n",
       "  'zuo/dâr+',\n",
       "  'în/dâr+',\n",
       "  'über(e)/dâr+'}]"
      ]
     },
     "execution_count": 100,
     "metadata": {},
     "output_type": "execute_result"
    }
   ],
   "source": [
    "[pos_to_lemmata[pos] for pos in [pos for pos in pos_set if pos.startswith(\"PA\")]]"
   ]
  },
  {
   "cell_type": "code",
   "execution_count": 70,
   "metadata": {
    "collapsed": false
   },
   "outputs": [
    {
     "data": {
      "text/plain": [
       "['PPER', 'PW', 'PI', 'PG', 'PRF']"
      ]
     },
     "execution_count": 70,
     "metadata": {},
     "output_type": "execute_result"
    }
   ],
   "source": [
    "# Pronouns\n",
    "[pos for pos in pos_set \n",
    " if pos in [\"PG\", \"PI\", \"PPER\", \"PRF\", \"PW\"]]"
   ]
  },
  {
   "cell_type": "code",
   "execution_count": 101,
   "metadata": {
    "collapsed": false
   },
   "outputs": [
    {
     "data": {
      "text/plain": [
       "[{'swër'},\n",
       " {'man'},\n",
       " {'dû', 'ich', 'ir', 'wir', 'ër'},\n",
       " {'dû', 'ich', 'ir', 'sich', 'ër'},\n",
       " {'wër'}]"
      ]
     },
     "execution_count": 101,
     "metadata": {},
     "output_type": "execute_result"
    }
   ],
   "source": [
    "[pos_to_lemmata[pos] for pos in [\"PG\", \"PI\", \"PPER\", \"PRF\", \"PW\"]]"
   ]
  },
  {
   "cell_type": "code",
   "execution_count": 71,
   "metadata": {
    "collapsed": false
   },
   "outputs": [
    {
     "data": {
      "text/plain": [
       "['PTKANT', 'PTKA', 'PTKNEG', 'PTKVZ', 'PTK']"
      ]
     },
     "execution_count": 71,
     "metadata": {},
     "output_type": "execute_result"
    }
   ],
   "source": [
    "# Particles\n",
    "[pos for pos in pos_set if pos.startswith(\"PT\")]"
   ]
  },
  {
   "cell_type": "code",
   "execution_count": 102,
   "metadata": {
    "collapsed": false
   },
   "outputs": [
    {
     "data": {
      "text/plain": [
       "[{'jâ'},\n",
       " {'ze'},\n",
       " {'ne', 'niht'},\n",
       " {'abe/+lâzen',\n",
       "  'abe/+slahen',\n",
       "  'ane/+bièten',\n",
       "  'ane/+er-dwingen',\n",
       "  'ane/+ge-vâhen',\n",
       "  'ane/+ge-winnen',\n",
       "  'ane/+hèben',\n",
       "  'ane/+kapfen',\n",
       "  'ane/+loufen',\n",
       "  'ane/+ruofen',\n",
       "  'ane/+schiffen',\n",
       "  'bî/+wësen',\n",
       "  'innen/+bringen',\n",
       "  'mit(e)/+volgen',\n",
       "  'nider(e)/+gân',\n",
       "  'nider(e)/+rîten',\n",
       "  'nider(e)/+vallen',\n",
       "  'vür(e)/+sènten',\n",
       "  'wider(e)/+ge-winnen',\n",
       "  'wider(e)/+gëben',\n",
       "  'wider(e)/+slahen',\n",
       "  'ûf/+blicken',\n",
       "  'ûf/+rihten',\n",
       "  'ûf/+spannen',\n",
       "  'ûf/+tuon',\n",
       "  'ûf/+îlen',\n",
       "  'ûz/+rîten/+gân'},\n",
       " {'sô'}]"
      ]
     },
     "execution_count": 102,
     "metadata": {},
     "output_type": "execute_result"
    }
   ],
   "source": [
    "[pos_to_lemmata[pos] for pos in \n",
    " [pos for pos in pos_set if pos.startswith(\"PT\")]]"
   ]
  },
  {
   "cell_type": "code",
   "execution_count": 72,
   "metadata": {
    "collapsed": false
   },
   "outputs": [
    {
     "data": {
      "text/plain": [
       "['VAFIN', 'VAIMP', 'VAPP', 'VAINF']"
      ]
     },
     "execution_count": 72,
     "metadata": {},
     "output_type": "execute_result"
    }
   ],
   "source": [
    "# Auxiliary verbs\n",
    "[pos for pos in pos_set if pos.startswith(\"VA\")]"
   ]
  },
  {
   "cell_type": "code",
   "execution_count": 103,
   "metadata": {
    "collapsed": false
   },
   "outputs": [
    {
     "data": {
      "text/plain": [
       "[{'haben', 'sîn', 'wërden', 'wësen', 'wësen/bî+'},\n",
       " {'sîn'},\n",
       " {'wërden', 'wësen'},\n",
       " {'haben', 'sîn', 'wërden', 'wësen'}]"
      ]
     },
     "execution_count": 103,
     "metadata": {},
     "output_type": "execute_result"
    }
   ],
   "source": [
    "[pos_to_lemmata[pos] for pos in\n",
    " [pos for pos in pos_set if pos.startswith(\"VA\")]]"
   ]
  },
  {
   "cell_type": "code",
   "execution_count": 74,
   "metadata": {
    "collapsed": false
   },
   "outputs": [
    {
     "data": {
      "text/plain": [
       "['VMFIN', 'VMINF']"
      ]
     },
     "execution_count": 74,
     "metadata": {},
     "output_type": "execute_result"
    }
   ],
   "source": [
    "# modal verbs\n",
    "[pos for pos in pos_set if pos.startswith(\"VM\")]"
   ]
  },
  {
   "cell_type": "code",
   "execution_count": 104,
   "metadata": {
    "collapsed": false
   },
   "outputs": [
    {
     "data": {
      "text/plain": [
       "[{'durfen',\n",
       "  'ge-turren',\n",
       "  'kunnen',\n",
       "  'mügen',\n",
       "  'müèzen',\n",
       "  'sol(e)n',\n",
       "  'turren',\n",
       "  'wèllen'},\n",
       " {'wèllen'}]"
      ]
     },
     "execution_count": 104,
     "metadata": {},
     "output_type": "execute_result"
    }
   ],
   "source": [
    "[pos_to_lemmata[pos] for pos in \n",
    " [pos for pos in pos_set if pos.startswith(\"VM\")]]"
   ]
  },
  {
   "cell_type": "code",
   "execution_count": 73,
   "metadata": {
    "collapsed": false
   },
   "outputs": [
    {
     "data": {
      "text/plain": [
       "['VVFIN', 'VVINF', 'VVIMP', 'VVPS', 'VVPP']"
      ]
     },
     "execution_count": 73,
     "metadata": {},
     "output_type": "execute_result"
    }
   ],
   "source": [
    "# Complete verbs\n",
    "[pos for pos in pos_set if pos.startswith(\"VV\")]"
   ]
  },
  {
   "cell_type": "code",
   "execution_count": 105,
   "metadata": {
    "collapsed": false,
    "scrolled": false
   },
   "outputs": [
    {
     "data": {
      "text/plain": [
       "[{'ant-würten',\n",
       "  'baden',\n",
       "  'be-durfen',\n",
       "  'be-dwingen',\n",
       "  'be-ginnen',\n",
       "  'be-graben',\n",
       "  'be-gân',\n",
       "  'be-hagen',\n",
       "  'be-kènnen',\n",
       "  'be-kêren',\n",
       "  'be-lèiten',\n",
       "  'be-rèiten',\n",
       "  'be-schèiden',\n",
       "  'be-sitzen',\n",
       "  'be-slièzen',\n",
       "  'be-swæren',\n",
       "  'be-trüèben',\n",
       "  'be-vinden',\n",
       "  'be-war(e)n',\n",
       "  'be-wëgen',\n",
       "  'binten',\n",
       "  'biten',\n",
       "  'bièten',\n",
       "  'blicken/ûf+',\n",
       "  'bringen',\n",
       "  'bringen/innen+',\n",
       "  'brinnen',\n",
       "  'briuten',\n",
       "  'brëchen',\n",
       "  'bèiten',\n",
       "  'bîten',\n",
       "  'dagen',\n",
       "  'diènen',\n",
       "  'dièzen',\n",
       "  'dringen',\n",
       "  'dunken',\n",
       "  'dwingen',\n",
       "  'dènken',\n",
       "  'ent-bièten',\n",
       "  'ent-rihten',\n",
       "  'ent-rüsten',\n",
       "  'ent-trinnen',\n",
       "  'ent-vallen',\n",
       "  'ent-vinden',\n",
       "  'ent-vâhen',\n",
       "  'ent-wîchen',\n",
       "  'er-biten',\n",
       "  'er-bièten',\n",
       "  'er-bîten',\n",
       "  'er-dièzen',\n",
       "  'er-dwingen',\n",
       "  'er-gâhen',\n",
       "  'er-gân',\n",
       "  'er-gètzen',\n",
       "  'er-gëben',\n",
       "  'er-hoèren',\n",
       "  'er-kièsen',\n",
       "  'er-klingen',\n",
       "  'er-krimmen',\n",
       "  'er-kènnen',\n",
       "  'er-schrècken',\n",
       "  'er-sëhen',\n",
       "  'er-vinden',\n",
       "  'er-wërben',\n",
       "  'ge-biten',\n",
       "  'ge-bièten',\n",
       "  'ge-brësten',\n",
       "  'ge-bâren',\n",
       "  'ge-dènken',\n",
       "  'ge-hoèren',\n",
       "  'ge-ligen',\n",
       "  'ge-louben',\n",
       "  'ge-lëben',\n",
       "  'ge-nièzen',\n",
       "  'ge-nëmen',\n",
       "  'ge-nësen',\n",
       "  'ge-pflëgen',\n",
       "  'ge-ruochen',\n",
       "  'ge-ruowen',\n",
       "  'ge-rëchen',\n",
       "  'ge-rîten',\n",
       "  'ge-schëhen',\n",
       "  'ge-sitzen',\n",
       "  'ge-springen',\n",
       "  'ge-staten',\n",
       "  'ge-sëhen',\n",
       "  'ge-tragen',\n",
       "  'ge-troèsten',\n",
       "  'ge-tuon',\n",
       "  'ge-vrèischen',\n",
       "  'ge-vâhen',\n",
       "  'ge-vâhen/ane+',\n",
       "  'ge-winnen',\n",
       "  'ge-winnen/ane+',\n",
       "  'ge-winnen/wider(e)+',\n",
       "  'ge-wirken',\n",
       "  'ge-wërren',\n",
       "  'ge-zucken',\n",
       "  'ge-zëmen',\n",
       "  'grüèzen',\n",
       "  'gunnen',\n",
       "  'gâben',\n",
       "  'gâhen',\n",
       "  'gân',\n",
       "  'gân/nider(e)+',\n",
       "  'gân/ûz+',\n",
       "  'gèrwen',\n",
       "  'gëben',\n",
       "  'gëlten',\n",
       "  'gër(e)n',\n",
       "  'houwen',\n",
       "  'hoèren',\n",
       "  'hèben',\n",
       "  'hèben/ane+',\n",
       "  'hèizen',\n",
       "  'hëlfen',\n",
       "  'jâmer(e)n',\n",
       "  'jëhen',\n",
       "  'kièsen',\n",
       "  'klagen',\n",
       "  'komen',\n",
       "  'koufen',\n",
       "  'kènnen',\n",
       "  'kêren',\n",
       "  'künden',\n",
       "  'küssen',\n",
       "  'laden',\n",
       "  'ligen',\n",
       "  'liuhten',\n",
       "  'lièben',\n",
       "  'loufen',\n",
       "  'loufen/ane+',\n",
       "  'loug(en)en',\n",
       "  'lâzen',\n",
       "  'lègen',\n",
       "  'lèisten',\n",
       "  'lêren',\n",
       "  'lëben',\n",
       "  'lësen',\n",
       "  'lônen',\n",
       "  'machen',\n",
       "  'manen',\n",
       "  'minnen',\n",
       "  'misse-hagen',\n",
       "  'müèjen',\n",
       "  'nâhen',\n",
       "  'nëmen',\n",
       "  'nîgen',\n",
       "  'pflëgen',\n",
       "  'rihten/ûf+',\n",
       "  'ruochen',\n",
       "  'ruofen',\n",
       "  'ruofen/ane+',\n",
       "  'râten',\n",
       "  'rèden',\n",
       "  'rëchen',\n",
       "  'rîten',\n",
       "  'rîten/ûz+',\n",
       "  'rücken',\n",
       "  'sagen',\n",
       "  'schiffen/ane+',\n",
       "  'schièzen',\n",
       "  'schrîen',\n",
       "  'schrôten',\n",
       "  'schèiden',\n",
       "  'schèpfen',\n",
       "  'singen',\n",
       "  'sitzen',\n",
       "  'slahen',\n",
       "  'slahen/abe+',\n",
       "  'slahen/wider(e)+',\n",
       "  'snîden',\n",
       "  'soumen',\n",
       "  'spar(e)n',\n",
       "  'springen',\n",
       "  'sprëchen',\n",
       "  'stièben',\n",
       "  'strîchen',\n",
       "  'strîten',\n",
       "  'stân',\n",
       "  'stërben',\n",
       "  'suochen',\n",
       "  'swinten',\n",
       "  'sènten',\n",
       "  'sètzen',\n",
       "  'sëhen',\n",
       "  'tragen',\n",
       "  'triuten',\n",
       "  'troumen',\n",
       "  'troèsten',\n",
       "  'trûwen',\n",
       "  'tuon',\n",
       "  'tèilen',\n",
       "  'umbe-slièzen',\n",
       "  'unter-stân',\n",
       "  'vallen/nider(e)+',\n",
       "  'var(e)n',\n",
       "  'ver-bièten',\n",
       "  'ver-diènen',\n",
       "  'ver-gëlten',\n",
       "  'ver-irren',\n",
       "  'ver-jëhen',\n",
       "  'ver-nëmen',\n",
       "  'ver-snîden',\n",
       "  'ver-suochen',\n",
       "  'ver-sëhen',\n",
       "  'ver-tragen',\n",
       "  'ver-wîzen',\n",
       "  'vinden',\n",
       "  'vliègen',\n",
       "  'vlièhen',\n",
       "  'vlièzen',\n",
       "  'vlîzen',\n",
       "  'vrumen',\n",
       "  'vrâgen',\n",
       "  'vröuwen',\n",
       "  'vâhen',\n",
       "  'vëhten',\n",
       "  'vürhten',\n",
       "  'vüègen',\n",
       "  'vüèren',\n",
       "  'wahsen',\n",
       "  'warten',\n",
       "  'waten',\n",
       "  'wider-stân',\n",
       "  'wider-var(e)n',\n",
       "  'wizzen',\n",
       "  'wonen',\n",
       "  'wunten',\n",
       "  'wunter(e)n',\n",
       "  'wâfenen',\n",
       "  'wæjen',\n",
       "  'wænen',\n",
       "  'wèinen',\n",
       "  'wènten',\n",
       "  'wèr(e)n',\n",
       "  'wër(e)n',\n",
       "  'wërben',\n",
       "  'wërfen',\n",
       "  'wîsen',\n",
       "  'wünschen',\n",
       "  'wüèten',\n",
       "  'zer-brësten',\n",
       "  'zièhen',\n",
       "  'zogen',\n",
       "  'zèigen',\n",
       "  'zëmen',\n",
       "  'zücken',\n",
       "  'zürnen',\n",
       "  'îlen',\n",
       "  'îlen/ûf+',\n",
       "  'über-sëhen',\n",
       "  'über-winten'},\n",
       " {'be-durfen',\n",
       "  'be-gân',\n",
       "  'be-halten',\n",
       "  'be-hèr(e)n',\n",
       "  'be-hüèten',\n",
       "  'be-jagen',\n",
       "  'be-kènnen',\n",
       "  'be-lèiten',\n",
       "  'be-lîben',\n",
       "  'be-rèiten',\n",
       "  'be-schèiden',\n",
       "  'be-stân',\n",
       "  'be-wèinen',\n",
       "  'be-wëgen',\n",
       "  'biten',\n",
       "  'bringen',\n",
       "  'bîten',\n",
       "  'danken',\n",
       "  'diènen',\n",
       "  'dièzen',\n",
       "  'ent-gëlten',\n",
       "  'ent-vâhen',\n",
       "  'er-bèizen',\n",
       "  'er-dièzen',\n",
       "  'er-dwingen',\n",
       "  'er-dwingen/ane+',\n",
       "  'er-gân',\n",
       "  'er-gëzzen',\n",
       "  'er-klingen',\n",
       "  'er-strîten',\n",
       "  'er-var(e)n',\n",
       "  'er-vinden',\n",
       "  'er-winten',\n",
       "  'er-wërben',\n",
       "  'ge-dagen',\n",
       "  'ge-diènen',\n",
       "  'ge-haben',\n",
       "  'ge-hèizen',\n",
       "  'ge-ligen',\n",
       "  'ge-louben',\n",
       "  'ge-lëben',\n",
       "  'ge-nièzen',\n",
       "  'ge-nènnen',\n",
       "  'ge-nësen',\n",
       "  'ge-pflëgen',\n",
       "  'ge-rîten',\n",
       "  'ge-sagen',\n",
       "  'ge-schëhen',\n",
       "  'ge-sigen',\n",
       "  'ge-strîten',\n",
       "  'ge-stân',\n",
       "  'ge-sëhen',\n",
       "  'ge-sîn',\n",
       "  'ge-tragen',\n",
       "  'ge-trûwen',\n",
       "  'ge-tuon',\n",
       "  'ge-vüègen',\n",
       "  'ge-winnen',\n",
       "  'ge-wèr(e)n',\n",
       "  'ge-wërren',\n",
       "  'ge-wësen',\n",
       "  'ge-zëmen',\n",
       "  'grüèzen',\n",
       "  'gunnen',\n",
       "  'gâhen',\n",
       "  'gân',\n",
       "  'gëben',\n",
       "  'gëben/wider(e)+',\n",
       "  'hoèren',\n",
       "  'hèben',\n",
       "  'hèizen',\n",
       "  'hèr(e)-bërgen',\n",
       "  'hëlfen',\n",
       "  'jëhen',\n",
       "  'kapfen/ane+',\n",
       "  'kièsen',\n",
       "  'klagen',\n",
       "  'komen',\n",
       "  'künden',\n",
       "  'küssen',\n",
       "  'laden',\n",
       "  'ligen',\n",
       "  'loben',\n",
       "  'lâzen',\n",
       "  'lèiden',\n",
       "  'lèisten',\n",
       "  'lëben',\n",
       "  'lîden',\n",
       "  'lîhen',\n",
       "  'lônen',\n",
       "  'machen',\n",
       "  'minnen',\n",
       "  'misse-gân',\n",
       "  'mîden',\n",
       "  'nëmen',\n",
       "  'nîgen',\n",
       "  'pflëgen',\n",
       "  'prüèven',\n",
       "  'riuwen',\n",
       "  'ruofen',\n",
       "  'ruowen',\n",
       "  'rèden',\n",
       "  'rèizen',\n",
       "  'rëchen',\n",
       "  'rîten',\n",
       "  'rîten/nider(e)+',\n",
       "  'sagen',\n",
       "  'salwen',\n",
       "  'schaden',\n",
       "  'schaffen',\n",
       "  'schirmen',\n",
       "  'schièzen',\n",
       "  'schèiden',\n",
       "  'schènken',\n",
       "  'schëlten',\n",
       "  'schînen',\n",
       "  'sidel(e)n',\n",
       "  'singen',\n",
       "  'sinnen',\n",
       "  'sitzen',\n",
       "  'slahen',\n",
       "  'spil(e)n',\n",
       "  'springen',\n",
       "  'sprëchen',\n",
       "  'strîten',\n",
       "  'strûchen',\n",
       "  'stân',\n",
       "  'stècken',\n",
       "  'stërben',\n",
       "  'swèr(e)n',\n",
       "  'sènten',\n",
       "  'sëhen',\n",
       "  'tragen',\n",
       "  'triuten',\n",
       "  'troèsten',\n",
       "  'trûren',\n",
       "  'tuon',\n",
       "  'tèilen',\n",
       "  'vallen',\n",
       "  'var(e)n',\n",
       "  'ver-diènen',\n",
       "  'ver-gëzzen',\n",
       "  'ver-jëhen',\n",
       "  'ver-kièsen',\n",
       "  'ver-klagen',\n",
       "  'ver-lièsen',\n",
       "  'ver-mëzzen',\n",
       "  'ver-mîden',\n",
       "  'ver-sagen',\n",
       "  'ver-sprëchen',\n",
       "  'ver-stân',\n",
       "  'ver-suochen',\n",
       "  'ver-tragen',\n",
       "  'ver-vâhen',\n",
       "  'ver-wunten',\n",
       "  'ver-ènten',\n",
       "  'vinden',\n",
       "  'vliègen',\n",
       "  'vlièzen',\n",
       "  'vlêhen',\n",
       "  'vlîzen',\n",
       "  'volgen',\n",
       "  'volgen/mit(e)+',\n",
       "  'vrâgen',\n",
       "  'vüègen',\n",
       "  'vüèren',\n",
       "  'walten',\n",
       "  'wirken',\n",
       "  'wizzen',\n",
       "  'wunter(e)n',\n",
       "  'wænen',\n",
       "  'wèinen',\n",
       "  'wènken',\n",
       "  'wènten',\n",
       "  'wërben',\n",
       "  'wîsen',\n",
       "  'wüèten',\n",
       "  'zièhen',\n",
       "  'zièren',\n",
       "  'zëmen',\n",
       "  'zücken',\n",
       "  'über-winten'},\n",
       " {'be-nènnen',\n",
       "  'biten',\n",
       "  'er-gëben',\n",
       "  'er-gëzzen',\n",
       "  'ge-dènken',\n",
       "  'ge-wèhenen',\n",
       "  'gâhen',\n",
       "  'gëben',\n",
       "  'hoèren',\n",
       "  'hèizen',\n",
       "  'hëlfen',\n",
       "  'hüèten',\n",
       "  'lâzen',\n",
       "  'lâzen/abe+',\n",
       "  'nëmen',\n",
       "  'sagen',\n",
       "  'sëhen',\n",
       "  'süènen',\n",
       "  'tuon',\n",
       "  'ver-sprëchen',\n",
       "  'wènten',\n",
       "  'zürnen'},\n",
       " {'diènen', 'houwen', 'lëben', 'stân', 'wèinen'},\n",
       " {'be-dwingen',\n",
       "  'be-gân',\n",
       "  'be-gürten',\n",
       "  'be-hüèten',\n",
       "  'be-komen',\n",
       "  'be-kènnen',\n",
       "  'be-ligen',\n",
       "  'be-nëmen',\n",
       "  'be-rinnen',\n",
       "  'be-rèiten',\n",
       "  'be-slièzen',\n",
       "  'be-stân',\n",
       "  'be-swæren',\n",
       "  'be-triègen',\n",
       "  'be-trüèben',\n",
       "  'be-war(e)n',\n",
       "  'be-wènten',\n",
       "  'be-wëgen',\n",
       "  'binten',\n",
       "  'bièten/ane+',\n",
       "  'bringen',\n",
       "  'diènen',\n",
       "  'en-bîzen',\n",
       "  'ent-bièten',\n",
       "  'ent-vâhen',\n",
       "  'er-bièten',\n",
       "  'er-bunnen',\n",
       "  'er-bër(e)n',\n",
       "  'er-gân',\n",
       "  'er-gètzen',\n",
       "  'er-kunnen',\n",
       "  'er-kènnen',\n",
       "  'er-rëchen',\n",
       "  'er-slahen',\n",
       "  'er-stërben',\n",
       "  'er-toben',\n",
       "  'er-vinden',\n",
       "  'er-vüllen',\n",
       "  'er-wènten',\n",
       "  'er-wîhen',\n",
       "  'er-zièhen',\n",
       "  'er-zürnen',\n",
       "  'ge-bër(e)n',\n",
       "  'ge-dènken',\n",
       "  'ge-lëben',\n",
       "  'ge-nësen',\n",
       "  'ge-schëhen',\n",
       "  'ge-sèmften',\n",
       "  'ge-toufen',\n",
       "  'ge-vallen',\n",
       "  'ge-vèllen',\n",
       "  'ge-winnen',\n",
       "  'ge-wër(e)n',\n",
       "  'ge-wërben',\n",
       "  'grüèzen',\n",
       "  'gëben',\n",
       "  'gër(e)n',\n",
       "  'hèizen',\n",
       "  'klèiden',\n",
       "  'komen',\n",
       "  'ligen',\n",
       "  'loben',\n",
       "  'lâzen',\n",
       "  'lèinen',\n",
       "  'nènnen',\n",
       "  'nëmen',\n",
       "  'pflëgen',\n",
       "  'rènnen',\n",
       "  'rîten',\n",
       "  'sagen',\n",
       "  'samenen',\n",
       "  'satel(e)n',\n",
       "  'schallen',\n",
       "  'schèiden',\n",
       "  'schènten',\n",
       "  'schèpfen',\n",
       "  'spannen',\n",
       "  'spannen/ûf+',\n",
       "  'spar(e)n',\n",
       "  'sprëchen',\n",
       "  'strîten',\n",
       "  'swèr(e)n',\n",
       "  'sènten',\n",
       "  'sènten/vür(e)+',\n",
       "  'sëhen',\n",
       "  'tragen',\n",
       "  'triuten',\n",
       "  'tuon',\n",
       "  'tuon/ûf+',\n",
       "  'tèilen',\n",
       "  'umbe-vâhen',\n",
       "  'vallen',\n",
       "  'ver-dagen',\n",
       "  'ver-diènen',\n",
       "  'ver-dècken',\n",
       "  'ver-gëlten',\n",
       "  'ver-gëzzen',\n",
       "  'ver-houwen',\n",
       "  'ver-hël(e)n',\n",
       "  'ver-lièsen',\n",
       "  'ver-loben',\n",
       "  'ver-mîden',\n",
       "  'ver-nëmen',\n",
       "  'ver-snîden',\n",
       "  'ver-sol(e)n',\n",
       "  'ver-swinten',\n",
       "  'ver-swènten',\n",
       "  'ver-ènten',\n",
       "  'vüègen',\n",
       "  'wider-sagen',\n",
       "  'wâfenen',\n",
       "  'wènten',\n",
       "  'wër(e)n',\n",
       "  'wîsen',\n",
       "  'zer-brëchen',\n",
       "  'zer-gân',\n",
       "  'zer-tèilen',\n",
       "  'zièren'}]"
      ]
     },
     "execution_count": 105,
     "metadata": {},
     "output_type": "execute_result"
    }
   ],
   "source": [
    "[pos_to_lemmata[pos] for pos in \n",
    " [pos for pos in pos_set if pos.startswith(\"VV\")]]"
   ]
  },
  {
   "cell_type": "code",
   "execution_count": null,
   "metadata": {
    "collapsed": true
   },
   "outputs": [],
   "source": []
  },
  {
   "cell_type": "markdown",
   "metadata": {},
   "source": [
    "## Morphology"
   ]
  },
  {
   "cell_type": "code",
   "execution_count": 15,
   "metadata": {
    "collapsed": true
   },
   "outputs": [],
   "source": [
    "inflections = extract_by_tag(\"infl\", tokens)"
   ]
  },
  {
   "cell_type": "code",
   "execution_count": 16,
   "metadata": {
    "collapsed": false
   },
   "outputs": [
    {
     "data": {
      "text/plain": [
       "(15073, 283)"
      ]
     },
     "execution_count": 16,
     "metadata": {},
     "output_type": "execute_result"
    }
   ],
   "source": [
    "len(inflections), len(set(inflections))"
   ]
  },
  {
   "cell_type": "code",
   "execution_count": 17,
   "metadata": {
    "collapsed": true
   },
   "outputs": [],
   "source": [
    "inflection_class = extract_by_tag(\"inflClass\", tokens)"
   ]
  },
  {
   "cell_type": "code",
   "execution_count": 18,
   "metadata": {
    "collapsed": false
   },
   "outputs": [
    {
     "data": {
      "text/plain": [
       "(15073, 40)"
      ]
     },
     "execution_count": 18,
     "metadata": {},
     "output_type": "execute_result"
    }
   ],
   "source": [
    "len(inflection_class), len(set(inflection_class))"
   ]
  },
  {
   "cell_type": "code",
   "execution_count": null,
   "metadata": {
    "collapsed": true
   },
   "outputs": [],
   "source": []
  },
  {
   "cell_type": "code",
   "execution_count": null,
   "metadata": {
    "collapsed": true
   },
   "outputs": [],
   "source": []
  }
 ],
 "metadata": {
  "kernelspec": {
   "display_name": "Environment (old_norse_notebook)",
   "language": "",
   "name": "old_norse_notebook"
  }
 },
 "nbformat": 4,
 "nbformat_minor": 0
}
