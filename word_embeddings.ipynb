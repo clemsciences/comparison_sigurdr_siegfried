{
 "cells": [
  {
   "cell_type": "markdown",
   "metadata": {},
   "source": [
    "# Text comparison"
   ]
  },
  {
   "cell_type": "code",
   "execution_count": 5,
   "metadata": {
    "collapsed": true
   },
   "outputs": [],
   "source": [
    "import os\n",
    "from gensim.models import Word2Vec"
   ]
  },
  {
   "cell_type": "code",
   "execution_count": 6,
   "metadata": {
    "collapsed": false
   },
   "outputs": [],
   "source": [
    "from cltk.tokenize.word import WordTokenizer\n",
    "old_norse_word_tokenizer = WordTokenizer(\"old_norse\")"
   ]
  },
  {
   "cell_type": "code",
   "execution_count": 7,
   "metadata": {
    "collapsed": false
   },
   "outputs": [],
   "source": [
    "CLTK_DATA_DIRECTORY = os.path.join(os.getenv(\"HOME\"), \"cltk_data/old_norse/text/old_norse_text_perseus/plain_text/Völsunga_saga/\")"
   ]
  },
  {
   "cell_type": "code",
   "execution_count": 8,
   "metadata": {
    "collapsed": false
   },
   "outputs": [],
   "source": [
    "chapters = []\n",
    "l_filenames = os.listdir(CLTK_DATA_DIRECTORY)\n",
    "l_filenames = sorted(l_filenames, key=lambda x: x.split(\"_\")[1].split(\".\")[0])\n",
    "for filename in l_filenames:\n",
    "    with open(os.path.join(CLTK_DATA_DIRECTORY, filename), \"r\") as f:\n",
    "        chapters.append(f.read().split(\". \"))"
   ]
  },
  {
   "cell_type": "code",
   "execution_count": 9,
   "metadata": {
    "collapsed": true
   },
   "outputs": [],
   "source": [
    "tokenized_chapters = []\n",
    "for i, chapter in enumerate(chapters):\n",
    "    tokenized_chapters.append([])\n",
    "    for sentence in chapter:\n",
    "        tokenized_chapters[i].append(old_norse_word_tokenizer.tokenize(sentence))"
   ]
  },
  {
   "cell_type": "code",
   "execution_count": 41,
   "metadata": {
    "collapsed": false
   },
   "outputs": [
    {
     "name": "stdout",
     "output_type": "stream",
     "text": [
      "['HÉR', 'hefr', 'upp', 'ok', 'segir', 'frá', 'þeim', 'manni', ',', 'er', 'Sigi', 'ernefndr', 'ok', 'kallaðr', ',', 'at', 'héti', 'sonr', 'Óðins']\n"
     ]
    }
   ],
   "source": [
    "print(tokenized_chapters[0][0])"
   ]
  },
  {
   "cell_type": "code",
   "execution_count": 29,
   "metadata": {
    "collapsed": false
   },
   "outputs": [],
   "source": [
    "word2vecinput = [line for chapter in tokenized_chapters for line in chapter]"
   ]
  },
  {
   "cell_type": "code",
   "execution_count": 30,
   "metadata": {
    "collapsed": false
   },
   "outputs": [],
   "source": [
    "model = Word2Vec(word2vecinput, min_count=1, size=50)\n",
    "model.save(\"old_norse_word2vec_model\")\n",
    "model = Word2Vec.load(\"old_norse_word2vec_model\")"
   ]
  },
  {
   "cell_type": "code",
   "execution_count": 45,
   "metadata": {
    "collapsed": false
   },
   "outputs": [
    {
     "data": {
      "text/plain": [
       "<gensim.models.word2vec.Word2VecVocab at 0x7f3141edb048>"
      ]
     },
     "execution_count": 45,
     "metadata": {},
     "output_type": "execute_result"
    }
   ],
   "source": [
    "model.vocabulary"
   ]
  },
  {
   "cell_type": "code",
   "execution_count": 43,
   "metadata": {
    "collapsed": false
   },
   "outputs": [
    {
     "data": {
      "text/plain": [
       "array([-0.20381169, -1.4350768 ,  1.3791546 , -1.1311744 ,  0.8020543 ,\n",
       "       -0.2933312 , -0.03832116, -1.7567779 , -1.4087217 , -1.5668539 ,\n",
       "       -0.15847024,  0.916238  ,  0.65394205, -0.3239987 ,  0.133034  ,\n",
       "        0.78342044, -0.900012  ,  0.62408173, -1.3631254 , -0.32558292,\n",
       "        1.5781972 ,  0.17780071, -0.3155617 ,  0.8334049 , -0.16736259,\n",
       "        1.6528113 , -0.6145295 , -0.7829164 ,  0.2580052 ,  2.0196545 ,\n",
       "        0.0749901 ,  0.17679474,  0.15541503, -1.135787  , -1.8763516 ,\n",
       "        0.17534193,  0.22567597,  0.05400413, -0.9605845 , -0.22842364,\n",
       "        1.3041359 , -0.4166488 ,  1.9306291 ,  1.3378038 ,  0.34431764,\n",
       "        0.68071634, -0.6020109 , -0.17210756, -0.90672046, -0.4250959 ],\n",
       "      dtype=float32)"
      ]
     },
     "execution_count": 43,
     "metadata": {},
     "output_type": "execute_result"
    }
   ],
   "source": [
    "model.wv['ok']"
   ]
  },
  {
   "cell_type": "code",
   "execution_count": 40,
   "metadata": {
    "collapsed": false
   },
   "outputs": [
    {
     "data": {
      "text/plain": [
       "0.99141896"
      ]
     },
     "execution_count": 40,
     "metadata": {},
     "output_type": "execute_result"
    }
   ],
   "source": [
    "model.wv.similarity(\"konu\", \"manni\")"
   ]
  },
  {
   "cell_type": "code",
   "execution_count": 39,
   "metadata": {
    "collapsed": false
   },
   "outputs": [
    {
     "data": {
      "text/plain": [
       "0.66771287"
      ]
     },
     "execution_count": 39,
     "metadata": {},
     "output_type": "execute_result"
    }
   ],
   "source": [
    "model.wv.similarity(\"konungr\", \"hefr\")"
   ]
  }
 ],
 "metadata": {
  "kernelspec": {
   "display_name": "Environment (old_norse_notebook)",
   "language": "",
   "name": "old_norse_notebook"
  },
  "language_info": {
   "codemirror_mode": {
    "name": "ipython",
    "version": 3
   },
   "file_extension": ".py",
   "mimetype": "text/x-python",
   "name": "python",
   "nbconvert_exporter": "python",
   "pygments_lexer": "ipython3",
   "version": "3.6.0"
  }
 },
 "nbformat": 4,
 "nbformat_minor": 0
}
